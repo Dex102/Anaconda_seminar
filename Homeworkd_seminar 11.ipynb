{
 "cells": [
  {
   "cell_type": "markdown",
   "id": "722a8c0c-c7f0-4a6a-906b-bab9584ef1fd",
   "metadata": {
    "tags": []
   },
   "source": [
    "# Дана функция f(x) = (sin(x)/2 + cos(x)/2)^2 * sin(x)"
   ]
  },
  {
   "cell_type": "markdown",
   "id": "766e0ca0-f5bf-441b-8944-8b5edf7ecb95",
   "metadata": {},
   "source": [
    "### 1.Определить корни\n",
    "### 2.Найти интервалы, на которых функция возрастает  \n",
    "### 3.Найти интервалы, на которых функция убывает\n",
    "### 4.Построить график\n",
    "### 5.Вычислить вершину  \n",
    "### 6.Определить промежутки, на котором f > 0  \n",
    "### 7.Определить промежутки, на котором f < 0  "
   ]
  },
  {
   "cell_type": "code",
   "execution_count": 8,
   "id": "f779ab05-67d1-4543-b36c-3574613cdfa2",
   "metadata": {},
   "outputs": [
    {
     "name": "stdout",
     "output_type": "stream",
     "text": [
      "Исходное уравнение (sin(X)/2 + cos(X)/2)**2*sin(X), Корни [-pi/4, 0, 3*pi/4, pi]\n"
     ]
    }
   ],
   "source": [
    "#Определить корни\n",
    "from sympy import *\n",
    "\n",
    "x = Symbol('X')\n",
    "f = sympify((sin(x) / 2 + cos(x) / 2) ** 2 * sin(x))\n",
    "s = solve(f, x)\n",
    "s = sorted(s)\n",
    "print(f'Исходное уравнение {f}, Корни {s}')"
   ]
  },
  {
   "cell_type": "code",
   "execution_count": 3,
   "id": "a0ff8bae-fe84-4a99-adf3-efe069594422",
   "metadata": {},
   "outputs": [
    {
     "name": "stdout",
     "output_type": "stream",
     "text": [
      "(-sin(X) + cos(X))*(sin(X)/2 + cos(X)/2)*sin(X) + (sin(X)/2 + cos(X)/2)**2*cos(X) \n",
      "\n",
      "1. Функция возрастает на промежутке -2*atan(-3/2 + sqrt(6)*sqrt(5 - sqrt(17))/2 + sqrt(17)/2) : -pi/4.\n",
      "2. Функция убывает на промежутке -pi/4 : 2*atan(-sqrt(6)*sqrt(sqrt(17) + 5)/2 + 3/2 + sqrt(17)/2).\n",
      "3. Функция возрастает на промежутке 2*atan(-sqrt(6)*sqrt(sqrt(17) + 5)/2 + 3/2 + sqrt(17)/2) : 2*atan(-sqrt(17)/2 + sqrt(6)*sqrt(5 - sqrt(17))/2 + 3/2).\n",
      "4. Функция убывает на промежутке 2*atan(-sqrt(17)/2 + sqrt(6)*sqrt(5 - sqrt(17))/2 + 3/2) : 3*pi/4.\n",
      "5. Функция возрастает на промежутке 3*pi/4 : 2*atan(3/2 + sqrt(17)/2 + sqrt(6)*sqrt(sqrt(17) + 5)/2).\n",
      "6. Функция убывает на промежутке 2*atan(3/2 + sqrt(17)/2 + sqrt(6)*sqrt(sqrt(17) + 5)/2) : -2*atan(-3/2 + sqrt(6)*sqrt(5 - sqrt(17))/2 + sqrt(17)/2) + 2*pi.\n"
     ]
    }
   ],
   "source": [
    "#Найти интервалы, на которых функция возрастает\n",
    "#Найти интервалы, на которых функция убывает\n",
    "\n",
    "d = diff(f)\n",
    "d_1 = sorted(solve(d,x))\n",
    "\n",
    "print(d,'\\n')\n",
    "\n",
    "period = pi\n",
    "\n",
    "while True:   \n",
    "    p_1 = d.subs(x, 0)\n",
    "    p_2 = d.subs(x, 0 + period)\n",
    "    if p_1 == p_2:\n",
    "        break\n",
    "    else:\n",
    "        period += pi\n",
    "        \n",
    "point = d_1[0] + period\n",
    "l_1 = d_1[:]\n",
    "l_1.append(point)\n",
    "l_1 = sorted(l_1)\n",
    "\n",
    "for i in range(1, len(l_1)):\n",
    "    p_1 = f.subs(x,l_1[i-1] + 0.000001)\n",
    "    p_2 = f.subs(x,l_1[i] - 0.000001)\n",
    "    if p_1 < p_2:\n",
    "        print(f'{i}. Функция возрастает на промежутке {l_1[i-1]} : {l_1[i]}.')\n",
    "    else:\n",
    "        print(f'{i}. Функция убывает на промежутке {l_1[i-1]} : {l_1[i]}.')"
   ]
  },
  {
   "cell_type": "code",
   "execution_count": 15,
   "id": "603605e6-6f36-4d4e-a657-08f338acd3c2",
   "metadata": {},
   "outputs": [
    {
     "data": {
      "image/png": "[encoded data removed]",
      "text/plain": [
       "<Figure size 432x288 with 1 Axes>"
      ]
     },
     "metadata": {
      "needs_background": "light"
     },
     "output_type": "display_data"
    }
   ],
   "source": [
    "# Построить график  \n",
    "graph = plot(f)"
   ]
  },
  {
   "cell_type": "code",
   "execution_count": 4,
   "id": "687d9807-b080-420d-a304-e8ee0fced824",
   "metadata": {},
   "outputs": [
    {
     "name": "stdout",
     "output_type": "stream",
     "text": [
      "Вершина функции: x = -2*atan(-3/2 + sqrt(6)*sqrt(5 - sqrt(17))/2 + sqrt(17)/2), y = -(-sin(2*atan(-3/2 + sqrt(6)*sqrt(5 - sqrt(17))/2 + sqrt(17)/2))/2 + cos(2*atan(-3/2 + sqrt(6)*sqrt(5 - sqrt(17))/2 + sqrt(17)/2))/2)**2*sin(2*atan(-3/2 + sqrt(6)*sqrt(5 - sqrt(17))/2 + sqrt(17)/2))\n",
      "Вершина функции: x = -pi/4, y = 0\n",
      "Вершина функции: x = 2*atan(-sqrt(6)*sqrt(sqrt(17) + 5)/2 + 3/2 + sqrt(17)/2), y = (sin(2*atan(-sqrt(6)*sqrt(sqrt(17) + 5)/2 + 3/2 + sqrt(17)/2))/2 + cos(2*atan(-sqrt(6)*sqrt(sqrt(17) + 5)/2 + 3/2 + sqrt(17)/2))/2)**2*sin(2*atan(-sqrt(6)*sqrt(sqrt(17) + 5)/2 + 3/2 + sqrt(17)/2))\n",
      "Вершина функции: x = 2*atan(-sqrt(17)/2 + sqrt(6)*sqrt(5 - sqrt(17))/2 + 3/2), y = (cos(2*atan(-sqrt(17)/2 + sqrt(6)*sqrt(5 - sqrt(17))/2 + 3/2))/2 + sin(2*atan(-sqrt(17)/2 + sqrt(6)*sqrt(5 - sqrt(17))/2 + 3/2))/2)**2*sin(2*atan(-sqrt(17)/2 + sqrt(6)*sqrt(5 - sqrt(17))/2 + 3/2))\n",
      "Вершина функции: x = 3*pi/4, y = 0\n",
      "Вершина функции: x = 2*atan(3/2 + sqrt(17)/2 + sqrt(6)*sqrt(sqrt(17) + 5)/2), y = (cos(2*atan(3/2 + sqrt(17)/2 + sqrt(6)*sqrt(sqrt(17) + 5)/2))/2 + sin(2*atan(3/2 + sqrt(17)/2 + sqrt(6)*sqrt(sqrt(17) + 5)/2))/2)**2*sin(2*atan(3/2 + sqrt(17)/2 + sqrt(6)*sqrt(sqrt(17) + 5)/2))\n"
     ]
    }
   ],
   "source": [
    "#Вычислить вершину\n",
    "\n",
    "for i in d_1:\n",
    "    f_top = f.subs(x, i)\n",
    "    print(f'Вершина функции: x = {i}, y = {f_top}')"
   ]
  },
  {
   "cell_type": "code",
   "execution_count": 9,
   "id": "4df91bdb-df1d-453b-9aa6-f902c892aaf2",
   "metadata": {},
   "outputs": [
    {
     "name": "stdout",
     "output_type": "stream",
     "text": [
      "1. Функция на промежутке -pi/4 : 0 < 0.\n",
      "2. Функция на промежутке 0 : 3*pi/4 > 0.\n",
      "3. Функция на промежутке 3*pi/4 : pi > 0.\n",
      "4. Функция на промежутке pi : 7*pi/4 < 0.\n"
     ]
    }
   ],
   "source": [
    "period = pi\n",
    "\n",
    "while True:   \n",
    "    q_1 = f.subs(x, 1)\n",
    "    q_2 = f.subs(x, 1 + period)\n",
    "    \n",
    "    if q_1 == q_2:\n",
    "        break\n",
    "    else:\n",
    "        period += pi\n",
    "\n",
    "point_1 = s[0] + period\n",
    "lst_zero = s[:]\n",
    "lst_zero.append(point_1)\n",
    "\n",
    "for i in range(1, len(lst_zero)):\n",
    "    point = lst_zero[i-1]\n",
    "    if f.subs(x, point + 0.0000001) > 0:\n",
    "        print(f'{i}. Функция на промежутке {lst_zero[i-1]} : {lst_zero[i]} > 0.')\n",
    "    else:\n",
    "        print(f'{i}. Функция на промежутке {lst_zero[i-1]} : {lst_zero[i]} < 0.')"
   ]
  }
 ],
 "metadata": {
  "kernelspec": {
   "display_name": "Python 3 (ipykernel)",
   "language": "python",
   "name": "python3"
  },
  "language_info": {
   "codemirror_mode": {
    "name": "ipython",
    "version": 3
   },
   "file_extension": ".py",
   "mimetype": "text/x-python",
   "name": "python",
   "nbconvert_exporter": "python",
   "pygments_lexer": "ipython3",
   "version": "3.9.12"
  }
 },
 "nbformat": 4,
 "nbformat_minor": 5
}
